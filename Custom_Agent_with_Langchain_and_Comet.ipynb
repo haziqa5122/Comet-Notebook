{
  "cells": [
    {
      "cell_type": "markdown",
      "metadata": {
        "id": "65gLHTqsPu3L"
      },
      "source": [
        "# Custom Agent with Langchain and Comet\n",
        "\n",
        "This section will cover all the details of creating a custom agent using Langchain and Comet. The agent will be responsible for answering queries related to medical questions. Later, we will employ Comet to monitor the progress of our agent.\n",
        "\n"
      ]
    },
    {
      "cell_type": "markdown",
      "metadata": {
        "id": "AS-Cf3iBQjsR"
      },
      "source": [
        "# Setup & Imports\n",
        "\n",
        "To start, we require some packages and libraries. This section will set up all the required ones for the demo. Signing up to Comet is necessary, in case you haven't already done so. For that, just go to [Comet](https://www.comet.com/) and sign up. After you are in the Comet space(dashboard), go to **API keys** by clicking your profile as shown below:\n",
        "\n",
        "![1.png](images/1.png)\n",
        "\n",
        "After this, create an API key if not already done so. It's shown below:\n",
        "\n",
        "![2.png](images/2.png)"
      ]
    },
    {
      "cell_type": "code",
      "execution_count": 1,
      "metadata": {
        "colab": {
          "base_uri": "https://localhost:8080/"
        },
        "id": "v5AzJHb6QmKu",
        "outputId": "64b5b61f-1854-4ae0-ef56-9d661c840c52"
      },
      "outputs": [
        {
          "name": "stdout",
          "output_type": "stream",
          "text": [
            "\u001b[2K     \u001b[90m━━━━━━━━━━━━━━━━━━━━━━━━━━━━━━━━━━━━━━━━\u001b[0m \u001b[32m867.6/867.6 kB\u001b[0m \u001b[31m6.1 MB/s\u001b[0m eta \u001b[36m0:00:00\u001b[0m\n",
            "\u001b[2K     \u001b[90m━━━━━━━━━━━━━━━━━━━━━━━━━━━━━━━━━━━━━━━━\u001b[0m \u001b[32m1.8/1.8 MB\u001b[0m \u001b[31m11.8 MB/s\u001b[0m eta \u001b[36m0:00:00\u001b[0m\n",
            "\u001b[2K     \u001b[90m━━━━━━━━━━━━━━━━━━━━━━━━━━━━━━━━━━━━━━━━\u001b[0m \u001b[32m68.0/68.0 kB\u001b[0m \u001b[31m4.5 MB/s\u001b[0m eta \u001b[36m0:00:00\u001b[0m\n",
            "\u001b[2K     \u001b[90m━━━━━━━━━━━━━━━━━━━━━━━━━━━━━━━━━━━━━━━━\u001b[0m \u001b[32m312.9/312.9 kB\u001b[0m \u001b[31m11.9 MB/s\u001b[0m eta \u001b[36m0:00:00\u001b[0m\n",
            "\u001b[2K     \u001b[90m━━━━━━━━━━━━━━━━━━━━━━━━━━━━━━━━━━━━━━━━\u001b[0m \u001b[32m2.0/2.0 MB\u001b[0m \u001b[31m19.1 MB/s\u001b[0m eta \u001b[36m0:00:00\u001b[0m\n",
            "\u001b[2K     \u001b[90m━━━━━━━━━━━━━━━━━━━━━━━━━━━━━━━━━━━━━━━━\u001b[0m \u001b[32m302.8/302.8 kB\u001b[0m \u001b[31m17.4 MB/s\u001b[0m eta \u001b[36m0:00:00\u001b[0m\n",
            "\u001b[2K     \u001b[90m━━━━━━━━━━━━━━━━━━━━━━━━━━━━━━━━━━━━━━━━\u001b[0m \u001b[32m116.7/116.7 kB\u001b[0m \u001b[31m3.3 MB/s\u001b[0m eta \u001b[36m0:00:00\u001b[0m\n",
            "\u001b[2K     \u001b[90m━━━━━━━━━━━━━━━━━━━━━━━━━━━━━━━━━━━━━━━━\u001b[0m \u001b[32m5.5/5.5 MB\u001b[0m \u001b[31m18.7 MB/s\u001b[0m eta \u001b[36m0:00:00\u001b[0m\n",
            "\u001b[2K     \u001b[90m━━━━━━━━━━━━━━━━━━━━━━━━━━━━━━━━━━━━━━━━\u001b[0m \u001b[32m142.5/142.5 kB\u001b[0m \u001b[31m1.4 MB/s\u001b[0m eta \u001b[36m0:00:00\u001b[0m\n",
            "\u001b[2K     \u001b[90m━━━━━━━━━━━━━━━━━━━━━━━━━━━━━━━━━━━━━━━━\u001b[0m \u001b[32m648.9/648.9 kB\u001b[0m \u001b[31m23.9 MB/s\u001b[0m eta \u001b[36m0:00:00\u001b[0m\n",
            "\u001b[2K     \u001b[90m━━━━━━━━━━━━━━━━━━━━━━━━━━━━━━━━━━━━━━━━\u001b[0m \u001b[32m75.6/75.6 kB\u001b[0m \u001b[31m5.0 MB/s\u001b[0m eta \u001b[36m0:00:00\u001b[0m\n",
            "\u001b[2K     \u001b[90m━━━━━━━━━━━━━━━━━━━━━━━━━━━━━━━━━━━━━━━━\u001b[0m \u001b[32m3.3/3.3 MB\u001b[0m \u001b[31m38.7 MB/s\u001b[0m eta \u001b[36m0:00:00\u001b[0m\n",
            "\u001b[2K     \u001b[90m━━━━━━━━━━━━━━━━━━━━━━━━━━━━━━━━━━━━━━━━\u001b[0m \u001b[32m54.5/54.5 kB\u001b[0m \u001b[31m4.2 MB/s\u001b[0m eta \u001b[36m0:00:00\u001b[0m\n",
            "\u001b[2K     \u001b[90m━━━━━━━━━━━━━━━━━━━━━━━━━━━━━━━━━━━━━━━━\u001b[0m \u001b[32m266.8/266.8 kB\u001b[0m \u001b[31m12.6 MB/s\u001b[0m eta \u001b[36m0:00:00\u001b[0m\n",
            "\u001b[2K     \u001b[90m━━━━━━━━━━━━━━━━━━━━━━━━━━━━━━━━━━━━━━━━\u001b[0m \u001b[32m137.9/137.9 kB\u001b[0m \u001b[31m7.5 MB/s\u001b[0m eta \u001b[36m0:00:00\u001b[0m\n",
            "\u001b[2K     \u001b[90m━━━━━━━━━━━━━━━━━━━━━━━━━━━━━━━━━━━━━━━━\u001b[0m \u001b[32m54.3/54.3 kB\u001b[0m \u001b[31m2.8 MB/s\u001b[0m eta \u001b[36m0:00:00\u001b[0m\n",
            "\u001b[2K     \u001b[90m━━━━━━━━━━━━━━━━━━━━━━━━━━━━━━━━━━━━━━━━\u001b[0m \u001b[32m979.1/979.1 kB\u001b[0m \u001b[31m15.0 MB/s\u001b[0m eta \u001b[36m0:00:00\u001b[0m\n",
            "\u001b[2K     \u001b[90m━━━━━━━━━━━━━━━━━━━━━━━━━━━━━━━━━━━━━━━━\u001b[0m \u001b[32m49.3/49.3 kB\u001b[0m \u001b[31m2.0 MB/s\u001b[0m eta \u001b[36m0:00:00\u001b[0m\n",
            "\u001b[2K     \u001b[90m━━━━━━━━━━━━━━━━━━━━━━━━━━━━━━━━━━━━━━━━\u001b[0m \u001b[32m77.9/77.9 kB\u001b[0m \u001b[31m5.3 MB/s\u001b[0m eta \u001b[36m0:00:00\u001b[0m\n",
            "\u001b[2K     \u001b[90m━━━━━━━━━━━━━━━━━━━━━━━━━━━━━━━━━━━━━━━━\u001b[0m \u001b[32m58.3/58.3 kB\u001b[0m \u001b[31m4.9 MB/s\u001b[0m eta \u001b[36m0:00:00\u001b[0m\n",
            "\u001b[2K     \u001b[90m━━━━━━━━━━━━━━━━━━━━━━━━━━━━━━━━━━━━━━━━\u001b[0m \u001b[32m53.0/53.0 kB\u001b[0m \u001b[31m2.6 MB/s\u001b[0m eta \u001b[36m0:00:00\u001b[0m\n",
            "\u001b[?25h"
          ]
        }
      ],
      "source": [
        "!pip -q install langchain tiktoken duckduckgo-search comet_llm openai"
      ]
    },
    {
      "cell_type": "code",
      "execution_count": 2,
      "metadata": {
        "id": "GJkOJLTglI-5"
      },
      "outputs": [],
      "source": [
        "import re\n",
        "import langchain\n",
        "from typing import List, Union\n",
        "from langchain import OpenAI, LLMChain\n",
        "from langchain.tools import DuckDuckGoSearchRun\n",
        "from langchain.prompts import StringPromptTemplate\n",
        "from langchain.schema import AgentAction, AgentFinish\n",
        "from langchain.agents import Tool, AgentExecutor, LLMSingleActionAgent, AgentOutputParser"
      ]
    },
    {
      "cell_type": "code",
      "execution_count": 3,
      "metadata": {
        "colab": {
          "base_uri": "https://localhost:8080/"
        },
        "id": "LWgufvwGgacF",
        "outputId": "2ee10b5b-fea0-4f80-eaf3-31603f27bae0"
      },
      "outputs": [
        {
          "name": "stdout",
          "output_type": "stream",
          "text": [
            "Please paste your Comet API key from https://www.comet.com/api/my/settings/\n",
            "(api key may not show as you type)\n",
            "Comet API key: ··········\n"
          ]
        },
        {
          "name": "stderr",
          "output_type": "stream",
          "text": [
            "\u001b[1;38;5;39mCOMET INFO:\u001b[0m Valid Comet API Key saved in /root/.comet.config (set COMET_CONFIG to change where it is saved).\n"
          ]
        }
      ],
      "source": [
        "import comet_llm\n",
        "\n",
        "PROJECT_NAME = \"medical-agent-v1\"\n",
        "# initialize comet\n",
        "comet_llm.init(project=PROJECT_NAME) # will ask for Comet API"
      ]
    },
    {
      "cell_type": "markdown",
      "metadata": {
        "id": "BGLH6wP7lAfC"
      },
      "source": [
        "# Tools 🧰\n",
        "\n",
        "Tools serve as interfaces for agents, chains, or LLMs to engage with the environment. It comprises of the tool name, its description, JSON schema for inputs, function invocation, and the option to directly return results to users.\n",
        "\n",
        "In the following code snippet, we'll craft a straightforward tool using `DuckDuckGoSearchRun` to conduct internet searches for our queries. Subsequently, the real-time nature of the query results will become evident."
      ]
    },
    {
      "cell_type": "code",
      "execution_count": 4,
      "metadata": {
        "colab": {
          "base_uri": "https://localhost:8080/",
          "height": 105
        },
        "id": "QvmvwpbsltlQ",
        "outputId": "04c7ee5e-ca4a-4fa1-dbd6-b28f4f58fc04"
      },
      "outputs": [
        {
          "data": {
            "application/vnd.google.colaboratory.intrinsic+json": {
              "type": "string"
            },
            "text/plain": [
              "'Behavioral finance is a field of finance that proposes psychology-based theories to explain stock market anomalies such as severe rises or falls in stock price. Within behavioral finance , it is ... The stock market presents investors with many data points that can help them make well-informed, logical decisions. While we have the resources to make logical decisions, emotions drive most of ... Stock market psychology refers to the study of emotions, behaviors, and mental processes of investors impacting their trading decisions and market behavior. It is crucial for investors and analysts as it helps explain market movements, the formation of trends, and the occurrence of market anomalies. You are free to use this image on your ... Market sentiment is the overall attitude of investors toward a particular security or financial market . Market sentiment is the feeling or tone of a market, or its crowd psychology, as revealed ... Measures of market volatility have plunged to levels last seen in 2018, while major stock indexes have climbed to all-time highs. Investors are responding by seeking protection from potential ...'"
            ]
          },
          "execution_count": 4,
          "metadata": {},
          "output_type": "execute_result"
        }
      ],
      "source": [
        "search = DuckDuckGoSearchRun()\n",
        "\n",
        "tools = [\n",
        "    Tool(\n",
        "        name = \"Search\",\n",
        "        func=search.run,\n",
        "        description=\"Handy when you're required to respond to inquiries regarding current event.\"\n",
        "    )\n",
        "]\n",
        "\n",
        "search.run(\"What is the behaviour of stock market today?\")"
      ]
    },
    {
      "cell_type": "markdown",
      "metadata": {
        "id": "Uyz1WOwnn_yZ"
      },
      "source": [
        "However, for creating a medical agent, relying solely on a search engine might not suffice. Therefore, we ensure that the search engine specifically accesses [WebMD](https://www.webmd.com/), known for its reliability in medical information. Here's how to do it:"
      ]
    },
    {
      "cell_type": "code",
      "execution_count": 5,
      "metadata": {
        "colab": {
          "base_uri": "https://localhost:8080/",
          "height": 104
        },
        "id": "sv95WFo2nMYv",
        "outputId": "20239fc9-1a2c-4c87-c1ec-b6ade235243a"
      },
      "outputs": [
        {
          "data": {
            "application/vnd.google.colaboratory.intrinsic+json": {
              "type": "string"
            },
            "text/plain": [
              "\"Tuberculosis (TB) is a bacterial infection that can be dangerous, but it's almost always curable. ... What's the Treatment for Tuberculosis? Medically Reviewed by Paul Boyce, MD on November 03 ... Tuberculosis is a serious infectious disease that affects the lungs. Learn about its causes, symptoms, and treatment options in this comprehensive guide. Treatments to reverse the damage of bone tuberculosis include:\\u200c Anti-tuberculosis drugs. Rifampicin, streptomycin, kanamycin, isoniazid, protionamide, cycloserine, and pyrazinamide are the most ... TB Skin Testing Results. If you have a raised, hard bump or there's swelling on your arm, you have a positive test. That means TB germs are in your body. But it doesn't always mean you have active ... 4 min read. Scrofula, also called cervical tuberculous lymphadenitis, is a type of tuberculosis infection. It's caused by the same bacteria that causes pulmonary tuberculosis (TB). Tuberculosis is ...\""
            ]
          },
          "execution_count": 5,
          "metadata": {},
          "output_type": "execute_result"
        }
      ],
      "source": [
        "search.run(\"site:webmd.com What's the treatment for Tuberculosis?\")"
      ]
    },
    {
      "cell_type": "markdown",
      "metadata": {
        "id": "bv-C7Vubpfjb"
      },
      "source": [
        "Here's how to create a tool out of it:"
      ]
    },
    {
      "cell_type": "code",
      "execution_count": 6,
      "metadata": {
        "id": "8UYGM43UpUgZ"
      },
      "outputs": [],
      "source": [
        "def serach_md(input_text):\n",
        "    search_results = search.run(f\"site:webmd.com {input_text}\")\n",
        "    return search_results\n",
        "\n",
        "tools.append(Tool(\n",
        "        name = \"Search WebMD\",\n",
        "        func=serach_md,\n",
        "        description=\"Handy when you're required to answer medical and pharmalogical questions\"\n",
        "    )\n",
        ")"
      ]
    },
    {
      "cell_type": "markdown",
      "metadata": {
        "id": "P2XglTZlqpJT"
      },
      "source": [
        "# Prompt\n",
        "\n",
        "Prompts tell agents what to do and to pass it to the agent it mush have the following components:\n",
        "\n",
        "1. **Tools**: The agent should be aware of the tools at its disposal.\n",
        "\n",
        "2. **Intermediate Steps**: These are comprised of previous pairs of `Agent Actions` and `Observations`. Although not directly provided to the model, the prompt template structures them in a particular manner.\n",
        "\n",
        "3. **Input**: This refers to the generic input provided by the user.\n",
        "\n",
        "The agent utilizes these components to effectively carry out its tasks and provide accurate and helpful responses to the user's input.\n",
        "\n",
        "The prompt in the code snippet is working like an action and reason engine. In technical terms, it is referred to as ReACT (Reason + Action). ReAct combines LLM's reasoning and its acting capabilities as seen below:\n",
        "\n",
        "![3.png](images/3.png)"
      ]
    },
    {
      "cell_type": "code",
      "execution_count": 7,
      "metadata": {
        "id": "l--pESfBu-eU"
      },
      "outputs": [],
      "source": [
        "# Base template\n",
        "\n",
        "template = \"\"\"Answer the following questions as best you can, but speaking as compasionate medical professional. You have access to the following tools:\n",
        "\n",
        "{tools}\n",
        "\n",
        "Use the following format:\n",
        "\n",
        "Question: the input question you must answer\n",
        "Thought: you should always think about what to do\n",
        "Action: the action to take, should be one of [{tool_names}]\n",
        "Action Input: the input to the action\n",
        "Observation: the result of the action\n",
        "... (this Thought/Action/Action Input/Observation can repeat N times)\n",
        "Thought: I now know the final answer\n",
        "Final Answer: the final answer to the original input question\n",
        "\n",
        "Begin! Remember to answer as a compansionate medical professional when giving your final answer.\n",
        "\n",
        "Question: {input}\n",
        "{agent_scratchpad}\"\"\"\n"
      ]
    },
    {
      "cell_type": "markdown",
      "metadata": {
        "id": "56ILGD01zVD_"
      },
      "source": [
        "In the code snippet below, we are taking the `intermediate_steps` that comprise `action` and `observation` as a tuple. We will add it to `agent_scratchpad` so it keeps track of previous actions and observations so the agent knows what work it has already done.\n",
        "\n",
        "To make the work easier, we will inherit the class from `StringPromptTemplate` will override the `format` function and set up additional parameters like `agent_scratchpad`, `tools`, and `tool_names` and call the parent class `format` function"
      ]
    },
    {
      "cell_type": "code",
      "execution_count": 8,
      "metadata": {
        "id": "h4UPoCopzUTq"
      },
      "outputs": [],
      "source": [
        "class CustomPromptTemplate(StringPromptTemplate):\n",
        "    # The template to use\n",
        "    template: str\n",
        "    # The list of tools available\n",
        "    tools: List[Tool]\n",
        "\n",
        "    def format(self, **kwargs) -> str:\n",
        "        # Get the intermediate steps (AgentAction, Observation tuples)\n",
        "        # Format them in a particular way\n",
        "        intermediate_steps = kwargs.pop(\"intermediate_steps\")\n",
        "        thoughts = \"\"\n",
        "        for action, observation in intermediate_steps:\n",
        "            thoughts += action.log\n",
        "            thoughts += f\"\\nObservation: {observation}\\nThought: \"\n",
        "        # Set the agent_scratchpad variable to that value\n",
        "        kwargs[\"agent_scratchpad\"] = thoughts\n",
        "        # Create a tools variable from the list of tools provided\n",
        "        kwargs[\"tools\"] = \"\\n\".join([f\"{tool.name}: {tool.description}\" for tool in self.tools])\n",
        "        # Create a list of tool names for the tools provided\n",
        "        kwargs[\"tool_names\"] = \", \".join([tool.name for tool in self.tools])\n",
        "        return self.template.format(**kwargs)"
      ]
    },
    {
      "cell_type": "code",
      "execution_count": 9,
      "metadata": {
        "id": "JKTvT3PlOeNv"
      },
      "outputs": [],
      "source": [
        "prompt = CustomPromptTemplate(\n",
        "    template=template,\n",
        "    tools=tools,\n",
        "    input_variables=[\"input\", \"intermediate_steps\"]\n",
        ")"
      ]
    },
    {
      "cell_type": "code",
      "execution_count": 10,
      "metadata": {
        "colab": {
          "base_uri": "https://localhost:8080/"
        },
        "id": "jEP5rJmdjNoo",
        "outputId": "f9ccadec-58a8-4616-dba6-d3aa2fafc1a7"
      },
      "outputs": [
        {
          "data": {
            "text/plain": [
              "CustomPromptTemplate(input_variables=['input', 'intermediate_steps'], template='Answer the following questions as best you can, but speaking as compasionate medical professional. You have access to the following tools:\\n\\n{tools}\\n\\nUse the following format:\\n\\nQuestion: the input question you must answer\\nThought: you should always think about what to do\\nAction: the action to take, should be one of [{tool_names}]\\nAction Input: the input to the action\\nObservation: the result of the action\\n... (this Thought/Action/Action Input/Observation can repeat N times)\\nThought: I now know the final answer\\nFinal Answer: the final answer to the original input question\\n\\nBegin! Remember to answer as a compansionate medical professional when giving your final answer.\\n\\nQuestion: {input}\\n{agent_scratchpad}', tools=[Tool(name='Search', description=\"Handy when you're required to respond to inquiries regarding current event.\", func=<bound method BaseTool.run of DuckDuckGoSearchRun()>), Tool(name='Search WebMD', description=\"Handy when you're required to answer medical and pharmalogical questions\", func=<function serach_md at 0x7da5b77130a0>)])"
            ]
          },
          "execution_count": 10,
          "metadata": {},
          "output_type": "execute_result"
        }
      ],
      "source": [
        "prompt"
      ]
    },
    {
      "cell_type": "markdown",
      "metadata": {
        "id": "48u4k7n4USA_"
      },
      "source": [
        "# Output Parsers\n",
        "\n",
        "Output parsers transform the output of the LLM to some other suitable format like JSON. In the case of agents, the output parser transforms the agent output into either AgentAction or AgentFinish.\n",
        "\n",
        "1. **AgentAction**: This data class represents the action to be executed by an agent. Its properties are the name of the tool to invoke (`tool`) and its corresponding input (`tool_input`).\n",
        "\n",
        "2. **AgentFinish**: It's the final result from the agent. It contains a key-value mapping named `return_values`, housing the final agent output. Typically, this output contains a string response under the output key.\n",
        "\n",
        "In the code snippet below, we will check if the agent has a final answer. If it does, we will return the result wrapped in the `AgentFinish` object. Otherwise, we will pass the action and action input to the `AgentAction` function so the agent can execute the action."
      ]
    },
    {
      "cell_type": "code",
      "execution_count": 11,
      "metadata": {
        "id": "leRUIxnkjDof"
      },
      "outputs": [],
      "source": [
        "class CustomOutputParser(AgentOutputParser):\n",
        "\n",
        "    def parse(self, llm_output: str) -> Union[AgentAction, AgentFinish]:\n",
        "        # Check if agent should finish\n",
        "        if \"Final Answer:\" in llm_output:\n",
        "            return AgentFinish(\n",
        "                return_values={\"output\": llm_output.split(\"Final Answer:\")[-1].strip()},\n",
        "                log=llm_output,\n",
        "            )\n",
        "        # Parse out the action and action input\n",
        "        regex = r\"Action\\s*\\d*\\s*:(.*?)\\nAction\\s*\\d*\\s*Input\\s*\\d*\\s*:[\\s]*(.*)\"\n",
        "        match = re.search(regex, llm_output, re.DOTALL)\n",
        "        if not match:\n",
        "            raise ValueError(f\"Could not parse LLM output: `{llm_output}`\") # If the template is not maintained it will throw this\n",
        "        action = match.group(1).strip()\n",
        "        action_input = match.group(2)\n",
        "        # Return the action and action input\n",
        "        return AgentAction(tool=action, tool_input=action_input.strip(\" \").strip('\"'), log=llm_output)"
      ]
    },
    {
      "cell_type": "code",
      "execution_count": 12,
      "metadata": {
        "id": "tthgqiaRjIyO"
      },
      "outputs": [],
      "source": [
        "output_parser = CustomOutputParser()"
      ]
    },
    {
      "cell_type": "code",
      "execution_count": 13,
      "metadata": {
        "colab": {
          "base_uri": "https://localhost:8080/"
        },
        "id": "UslTB-YpjzOT",
        "outputId": "99ed0e3d-1228-4d2d-da6a-6f654fb3fdc9"
      },
      "outputs": [
        {
          "data": {
            "text/plain": [
              "AgentFinish(return_values={'output': 'Tuberculosis (TB) is a bacterial infection that can be dangerous...'}, log='Final Answer: Tuberculosis (TB) is a bacterial infection that can be dangerous...')"
            ]
          },
          "execution_count": 13,
          "metadata": {},
          "output_type": "execute_result"
        }
      ],
      "source": [
        "output_parser.parse(\"Action:webmd \\nAction Input: Treatment for Tuberculosis\") # Returns AgentAction\n",
        "#output_parser.parse(\"Webmd Treatment for Tuberculosis\") # Value Error\n",
        "output_parser.parse(\"Final Answer: Tuberculosis (TB) is a bacterial infection that can be dangerous...\") # Returns AgentFinish"
      ]
    },
    {
      "cell_type": "markdown",
      "metadata": {
        "id": "yAxK1Srkk_HB"
      },
      "source": [
        "# Chains and LLMs\n",
        "\n",
        "Large Language Models (LLMs) are a fundamental part of LangChain and the computational engine for an agent is a LLM. Their ability to reason stems from their training on vast amounts of textual data. It's plausible that human reasoning can be articulated in text, thus allowing LLMs to learn and replicate this cognitive process.\n",
        "\n",
        "Now, we will create a chain (sequences of calls, whether to an LLM, a tool, or a data preprocessing step) comprising of LLM and the above prompt."
      ]
    },
    {
      "cell_type": "code",
      "execution_count": 14,
      "metadata": {
        "colab": {
          "base_uri": "https://localhost:8080/"
        },
        "id": "-R84-ykomkRJ",
        "outputId": "466a4ed4-2083-48ab-e0ef-b22791f88f67"
      },
      "outputs": [
        {
          "name": "stderr",
          "output_type": "stream",
          "text": [
            "/usr/local/lib/python3.10/dist-packages/langchain_core/_api/deprecation.py:119: LangChainDeprecationWarning: The class `OpenAI` was deprecated in LangChain 0.0.10 and will be removed in 0.2.0. An updated version of the class exists in the langchain-openai package and should be used instead. To use it run `pip install -U langchain-openai` and import as `from langchain_openai import OpenAI`.\n",
            "  warn_deprecated(\n"
          ]
        }
      ],
      "source": [
        "llm = OpenAI(temperature=0, openai_api_key=\"...\")"
      ]
    },
    {
      "cell_type": "code",
      "execution_count": 15,
      "metadata": {
        "colab": {
          "base_uri": "https://localhost:8080/"
        },
        "id": "1DF1KPJJm4Tq",
        "outputId": "8e12c781-6173-48a9-c3ba-301d823ab1f6"
      },
      "outputs": [
        {
          "name": "stderr",
          "output_type": "stream",
          "text": [
            "/usr/local/lib/python3.10/dist-packages/langchain_core/_api/deprecation.py:119: LangChainDeprecationWarning: The class `LLMChain` was deprecated in LangChain 0.1.17 and will be removed in 0.3.0. Use RunnableSequence, e.g., `prompt | llm` instead.\n",
            "  warn_deprecated(\n"
          ]
        }
      ],
      "source": [
        "llm_chain = LLMChain(llm=llm, prompt=prompt)"
      ]
    },
    {
      "cell_type": "code",
      "execution_count": 16,
      "metadata": {
        "colab": {
          "base_uri": "https://localhost:8080/"
        },
        "id": "f5eaozmFou5X",
        "outputId": "a7d3b729-710d-4b55-f78c-fd7542218213"
      },
      "outputs": [
        {
          "name": "stderr",
          "output_type": "stream",
          "text": [
            "/usr/local/lib/python3.10/dist-packages/langchain_core/_api/deprecation.py:119: LangChainDeprecationWarning: The class `LLMSingleActionAgent` was deprecated in LangChain 0.1.0 and will be removed in 0.2.0. Use Use new agent constructor methods like create_react_agent, create_json_agent, create_structured_chat_agent, etc. instead.\n",
            "  warn_deprecated(\n"
          ]
        }
      ],
      "source": [
        "tool_names = [tool.name for tool in tools]\n",
        "\n",
        "agent = LLMSingleActionAgent(\n",
        "    llm_chain=llm_chain,\n",
        "    output_parser=output_parser,\n",
        "    stop=[\"\\nObservation:\"],\n",
        "    allowed_tools=tool_names\n",
        ")"
      ]
    },
    {
      "cell_type": "markdown",
      "metadata": {
        "id": "cMjV3zY_sLbw"
      },
      "source": [
        "# Agent Executor\n",
        "\n",
        "The agent executor serves as the runtime for an agent. It initiates the agent, executes its chosen actions, returns the action outputs, and repeats the process.\n"
      ]
    },
    {
      "cell_type": "code",
      "execution_count": 17,
      "metadata": {
        "id": "sO7l54P2rNvW"
      },
      "outputs": [],
      "source": [
        "agent_executor = AgentExecutor.from_agent_and_tools(agent=agent,\n",
        "                                                    tools=tools,\n",
        "                                                    verbose=True)"
      ]
    },
    {
      "cell_type": "code",
      "execution_count": 18,
      "metadata": {
        "colab": {
          "base_uri": "https://localhost:8080/"
        },
        "id": "ApUfmbiBrPVM",
        "outputId": "06b16ee5-0a2a-41c3-8227-b20d1b0ef6e2"
      },
      "outputs": [
        {
          "name": "stdout",
          "output_type": "stream",
          "text": [
            "\n",
            "\n",
            "\u001b[1m> Entering new AgentExecutor chain...\u001b[0m\n",
            "\u001b[32;1m\u001b[1;3mThought: Remain calm and assess the situation.\n",
            "Action: Search\n",
            "Action Input: \"snake bite first aid\"\u001b[0m\n",
            "\n",
            "Observation:\u001b[36;1m\u001b[1;3mLearn how to handle a venomous snakebite and when to seek medical help. Find out the symptoms, types and locations of venomous snakes in North America and how to avoid them. Learn how to handle snake bites, whether venomous or not, and when to call 911. Find out what to do before, during and after the bite, and how to prevent infections and complications. Learn how to treat snake bites as a medical emergency, no matter the type of snake or the severity of the bite. Find out the symptoms, causes, diagnosis and treatment options for venomous and dry snake bites, as well as how to prevent and live with snake bites. To help someone with a snakebite: Take off all jewelry and tight clothing to avoid problems with swelling. Keep the area of the bite below the heart to keep venom from spreading. Keep the person ... Venomous snake bites: symptoms and first aid. Standford Children's Health. Snake bites in children. Clemson University. Identifying copperhead snakes. Mott's Children Hospital. Copperhead. National Wildlife Federation. Rattlesnakes. Government of Alberta. Rattlesnake. Tennessee Wildlife Resources Agency. Cottonmouth, Agkistrodon piscivorus.\u001b[0m\n",
            "\u001b[32;1m\u001b[1;3mI now know the final answer.\n",
            "Final Answer: The first thing to do after being bitten by a snake is to remain calm and assess the situation. Then, search for information on how to handle a venomous snakebite and when to seek medical help. Follow the instructions for first aid, such as removing jewelry and tight clothing, keeping the area of the bite below the heart, and seeking medical attention immediately.\u001b[0m\n",
            "\n",
            "\u001b[1m> Finished chain.\u001b[0m\n"
          ]
        },
        {
          "data": {
            "text/plain": [
              "{'input': 'I have been bitten by a snake!! What is the first thing to do?',\n",
              " 'output': 'The first thing to do after being bitten by a snake is to remain calm and assess the situation. Then, search for information on how to handle a venomous snakebite and when to seek medical help. Follow the instructions for first aid, such as removing jewelry and tight clothing, keeping the area of the bite below the heart, and seeking medical attention immediately.'}"
            ]
          },
          "execution_count": 18,
          "metadata": {},
          "output_type": "execute_result"
        }
      ],
      "source": [
        "agent_executor.invoke(\"I have been bitten by a snake!! What is the first thing to do?\")"
      ]
    },
    {
      "cell_type": "markdown",
      "metadata": {
        "id": "lXBy234mz1LK"
      },
      "source": [
        "As of now, we are done with the coding part related to an agent. In the next section, we will monitor the question answering using Comet. Let's get into it."
      ]
    },
    {
      "cell_type": "markdown",
      "metadata": {
        "id": "H51V1nKZzxJx"
      },
      "source": [
        "# Creating a Project in Comet\n",
        "\n",
        "To create a project in Comet space, On Comet's dashboard click on **New Project** as shown in the image:\n",
        "\n",
        "![4.png](images/4.png)\n",
        "\n",
        "Next, simply name the project and make sure it matches with the `PROJECT_NAME` defined in the `comet_llm.init()`. Add an optional description and select **Large Language Models (Tailored visualizations for analyzing\n",
        "prompts and chains)** as project type. Here is the setup:\n",
        "\n",
        "![5.png](images/5.png)"
      ]
    },
    {
      "cell_type": "markdown",
      "metadata": {
        "id": "nlrjHvTwtijS"
      },
      "source": [
        "# Trace and Monitor on Comet ☄\n",
        "\n",
        "To monitor and track Comet, you can utilize the `CometTracer` function. This function helps you track the outputs of the agent and assess if the prompt is suitable for your use case.\n",
        "\n",
        "Tracing the agent can be easily accomplished. We can use `CometTracer` as a callback, and all the traces will then appear on the Comet dashboard."
      ]
    },
    {
      "cell_type": "code",
      "execution_count": 22,
      "metadata": {
        "colab": {
          "base_uri": "https://localhost:8080/"
        },
        "id": "G3Zu01lqrX4B",
        "outputId": "0fc5622a-e546-4635-cb0f-04641c2e43c5"
      },
      "outputs": [
        {
          "name": "stdout",
          "output_type": "stream",
          "text": [
            "\n",
            "\n",
            "\u001b[1m> Entering new AgentExecutor chain...\u001b[0m\n",
            "\u001b[32;1m\u001b[1;3mThought: Headaches can be caused by a variety of factors, so it's important to gather more information before recommending a treatment.\n",
            "Action: Search WebMD\n",
            "Action Input: \"headache treatment\"\u001b[0m\n",
            "\n",
            "Observation:\u001b[33;1m\u001b[1;3mMigraine headaches, also known as migraines, are a type of headache that can cause debilitating pain. Learn more about the types, causes, symptoms, diagnosis, & treatment of migraines. Treatment. For tension headaches and migraines, o ver-the-counter (OTC) pain relief with ingredients such as acetaminophen, aspirin, or ibuprofen can help. Repeated or severe migraines and cluster ... A combo of acetaminophen + aspirin + caffeine. Tell your doctor if OTC drugs don't help or you use them a lot. Many people with migraine often need prescription treatment to feel better. And ... Primary Headache. This means the headache itself is the main medical condition. This includes: Migraines. Tension-type headaches. Cluster headaches. New daily persistent headaches. It's probably ... A migraine is a type of headache with symptoms that can differ from those of non-migraine headaches. These may include unusual symptoms that can be scary, like tingling sensations, flashing lights ...\u001b[0m\n",
            "\u001b[32;1m\u001b[1;3m Based on the information from WebMD, it's important to determine if the headache is a migraine or a tension headache before recommending a treatment.\n",
            "Action: Search WebMD\n",
            "Action Input: \"migraine vs tension headache\"\u001b[0m\n",
            "\n",
            "Observation:\u001b[33;1m\u001b[1;3mTension-type headaches usually are brought on by stress, worry, or being tired. They cause the muscles of your scalp, neck, and jaw to tighten, and that leads to pain. The exact cause of migraine ... Migraine vs. tension headache. Tension headaches, often caused by tight muscles or stress, are the most common type of headache. The pain of a tension headache usually affects both sides of your ... Episodic tension headaches (happening less than 15 days per month) Pain is mild to moderate, constant, band-like pain or pressure. Pain affects the front, top, or sides of the head. Primary Headache. This means the headache itself is the main medical condition. This includes: Migraines. Tension-type headaches. Cluster headaches. New daily persistent headaches. It's probably ... 2 /27. Throbbing pain typically occurs on one side near the temples, forehead, and eyes. Migraine headaches can make you very sensitive to light, sound, or mild exertion, such as climbing the ...\u001b[0m\n",
            "\u001b[32;1m\u001b[1;3m Based on the comparison between migraine and tension headaches, it's important to consider the patient's symptoms and triggers before recommending a treatment.\n",
            "Action: Search\n",
            "Action Input: \"headache triggers\"\u001b[0m\n",
            "\n",
            "Observation:\u001b[36;1m\u001b[1;3mAn abrupt, severe headache like a thunderclap. Headache with fever, stiff neck, confusion, seizures, double vision, numbness or weakness in any part of the body, which could be a sign of a stroke. Headache after a head injury. A chronic headache that is worse after coughing, exertion, straining or a sudden movement. Headache from exercise and sex. Sudden, strenuous exercise can bring on a headache. Gradual warm-ups or treatment with an anti-inflammatory medication before exercise can help. Sexual intercourse may also trigger headaches; some men note only dull pain, but others suffer from severe attacks called orgasmic headaches. Stress. Stress can cause tight muscles in the shoulders and neck, which often leads to tension headaches. When tension headaches become frequent, the pain in shoulder and neck muscles is felt by the brain as pain in the head. Hunger itself can trigger a migraine or tension headache. But eating certain foods may trigger migraines. Prevention. Prognosis. There are many different types of headaches, including tension headaches, migraine headaches, ice pick headaches, and others. The cause, duration, and intensity can vary by ... 9. An Evening of Drinking Can End in Headache. For some people with migraine, alcohol can be a trigger, although the type of alcoholic beverage that triggers a migraine attack in one person may be ...\u001b[0m\n",
            "\u001b[32;1m\u001b[1;3m Based on the information about headache triggers, it's important to ask the patient about their lifestyle and habits before recommending a treatment.\n",
            "Thought: I now know the final answer\n",
            "Final Answer: The best way to treat a headache depends on the type of headache and the individual's triggers and symptoms. It's important to gather more information and consult with a medical professional before recommending a treatment.\u001b[0m\n",
            "\n",
            "\u001b[1m> Finished chain.\u001b[0m\n",
            "\n",
            "\n",
            "\u001b[1m> Entering new AgentExecutor chain...\u001b[0m\n",
            "\u001b[32;1m\u001b[1;3mThought: It's important to understand the cause of a disease in order to properly treat it.\n",
            "Action: Search WebMD\n",
            "Action Input: Tuberculosis\u001b[0m\n",
            "\n",
            "Observation:\u001b[33;1m\u001b[1;3mTuberculosis is a serious infectious disease that affects the lungs. Learn about its causes, symptoms, and treatment options in this comprehensive guide. Tuberculosis usually causes infection in the lungs, but not always. Tuberculosis can cause a latent (asymptomatic or quiet) infection or active tuberculosis which will require treatment. Tuberculosis (TB) is a bacterial infection that can be dangerous, but it's almost always curable. Learn what medications are used for each type of the disease. Tuberculosis is an airborne disease caused by a very infectious bacterium called Mycobacterium tuberculosis. It can travel through the blood to the lymph nodes and bones as well as the spine and ... Scrofula, also called cervical tuberculous lymphadenitis, is a type of tuberculosis infection. It's caused by the same bacteria that causes pulmonary tuberculosis (TB). Tuberculosis is a highly ...\u001b[0m\n",
            "\u001b[32;1m\u001b[1;3mI now know the final answer.\n",
            "Final Answer: Tuberculosis is caused by a bacterial infection called Mycobacterium tuberculosis. It can affect the lungs, but can also spread to other parts of the body. It is important to seek treatment for tuberculosis in order to prevent further spread of the disease and to ensure a full recovery.\u001b[0m\n",
            "\n",
            "\u001b[1m> Finished chain.\u001b[0m\n",
            "\n",
            "\n",
            "\u001b[1m> Entering new AgentExecutor chain...\u001b[0m\n",
            "\u001b[32;1m\u001b[1;3mThought: Remain calm and assess the situation.\n",
            "Action: Search\n",
            "Action Input: \"snake bite first aid\"\u001b[0m\n",
            "\n",
            "Observation:\u001b[36;1m\u001b[1;3mLearn how to handle a venomous snakebite and when to seek medical help. Find out the symptoms, types and pictures of venomous snakes in North America. Learn how to handle snake bites, whether venomous or not, and when to call 911. Find out what to do before, during and after the bite, and how to prevent infections and complications. Learn about snakebites, their causes, symptoms and treatments. Find out how to prevent snakebites and what to do if you are bitten by a venomous or nonvenomous snake. To help someone with a snakebite: Take off all jewelry and tight clothing to avoid problems with swelling. Keep the area of the bite below the heart to keep venom from spreading. Keep the person ... Venomous snake bites: symptoms and first aid. Standford Children's Health. Snake bites in children. Clemson University. Identifying copperhead snakes. Mott's Children Hospital. Copperhead. National Wildlife Federation. Rattlesnakes. Government of Alberta. Rattlesnake. Tennessee Wildlife Resources Agency. Cottonmouth, Agkistrodon piscivorus.\u001b[0m\n",
            "\u001b[32;1m\u001b[1;3mI now know the final answer.\n",
            "Final Answer: The first thing to do after being bitten by a snake is to remain calm and assess the situation. Then, follow the first aid steps for snake bites, such as removing jewelry and tight clothing, keeping the affected area below the heart, and seeking medical help immediately. It is also important to identify the type of snake that bit you, if possible, to determine the appropriate treatment.\u001b[0m\n",
            "\n",
            "\u001b[1m> Finished chain.\u001b[0m\n"
          ]
        }
      ],
      "source": [
        "from langchain.callbacks.tracers.comet import CometTracer\n",
        "\n",
        "\n",
        "queries = [\"How can I treat a headache?\",\n",
        "           \"How is tuberclousis caused?\",\n",
        "           \"I have been bitten by a snake!! What is the first thing to do?\"]\n",
        "\n",
        "expected_response = [\n",
        "    \"Rest in a quiet, dark room. Use hot or cold compresses on your head or neck. Consider a gentle massage and small amounts of caffeine.\",\n",
        "    \"Tuberculosis is caused by a bacterial infection called Mycobacterium tuberculosis. It primarily affects the lungs but can also spread to other body parts. Seeking treatment promptly is crucial to prevent the disease from spreading and to ensure a full recovery.\",\n",
        "    \"If bitten by a snake, stay calm and assess the situation. Remove any jewelry or tight clothing, keep the bite area below the heart level, and seek immediate medical attention.\",\n",
        "]\n",
        "\n",
        "callback = CometTracer()\n",
        "\n",
        "for query in queries:\n",
        "\n",
        "  agent_executor.run(query,callbacks=[callback])\n"
      ]
    },
    {
      "cell_type": "markdown",
      "metadata": {
        "id": "cHZC00onAEPI"
      },
      "source": [
        "As we run the above code snippet, the trace will be logged to the Comet under the provided project name as shown below:\n",
        "\n",
        "![6.png](images/6.png)\n",
        "\n",
        "As you see above, the input and output logs are stored with respective names. It also logs the duration for each query. We can further investigate by clicking the rows. This will open up a chain trace as seen below:\n",
        "\n",
        "![7.png](images/7.png)\n",
        "\n",
        "As shown above, the process begins by providing input to `ChatOpenAI` to identify the necessary tool. Once identified, it conducts the relevant search, passing the results as context to the chain, and ultimately provides an answer.\n",
        "\n",
        "Additionally, it includes supplementary information such as the execution time for each step and corresponding metadata."
      ]
    },
    {
      "cell_type": "code",
      "execution_count": null,
      "metadata": {
        "id": "WyUCRwuLwaVB"
      },
      "outputs": [],
      "source": []
    }
  ],
  "metadata": {
    "colab": {
      "provenance": [],
      "toc_visible": true
    },
    "kernelspec": {
      "display_name": "Python 3",
      "name": "python3"
    },
    "language_info": {
      "name": "python"
    }
  },
  "nbformat": 4,
  "nbformat_minor": 0
}
